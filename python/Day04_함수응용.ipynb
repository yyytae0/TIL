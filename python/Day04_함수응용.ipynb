{
 "cells": [
  {
   "cell_type": "markdown",
   "metadata": {},
   "source": [
    "<p style=\"font-size: 33px; font-weight: 700; margin-bottom: 3rem\">함수(function) II</p>\n",
    "\n",
    "함수(function) II\n",
    "\n",
    "- 함수의 응용\n",
    "- 함수 가변 입력 (패킹/언패킹)\n",
    "- 모듈과 패키지"
   ]
  },
  {
   "cell_type": "markdown",
   "metadata": {},
   "source": [
    "# 함수 응용"
   ]
  },
  {
   "cell_type": "markdown",
   "metadata": {},
   "source": [
    "## 내장 함수"
   ]
  },
  {
   "cell_type": "markdown",
   "metadata": {},
   "source": [
    "## `map(function, iterable)`\n",
    "\n",
    "* 순회가능한 데이터 구조(iterable)의 모든 요소에 function을 적용한 후 그 결과를 돌려준다. \n",
    "\n",
    "\n",
    "* return은 `map_object` 형태이다."
   ]
  },
  {
   "cell_type": "code",
   "execution_count": null,
   "metadata": {},
   "outputs": [],
   "source": [
    "numbers = [1, 2, 3]\n",
    "\n",
    "# 위의 변수 numbers를 문자열 '123'으로 만드세요. (join 메서드 활용)"
   ]
  },
  {
   "cell_type": "code",
   "execution_count": null,
   "metadata": {},
   "outputs": [],
   "source": [
    "# List comprehension 활용"
   ]
  },
  {
   "cell_type": "code",
   "execution_count": null,
   "metadata": {
    "scrolled": true
   },
   "outputs": [],
   "source": []
  },
  {
   "cell_type": "code",
   "execution_count": null,
   "metadata": {},
   "outputs": [],
   "source": [
    "print(new_numbers)"
   ]
  },
  {
   "cell_type": "code",
   "execution_count": null,
   "metadata": {},
   "outputs": [],
   "source": [
    "# map() 활용"
   ]
  },
  {
   "cell_type": "code",
   "execution_count": null,
   "metadata": {},
   "outputs": [],
   "source": []
  },
  {
   "cell_type": "code",
   "execution_count": null,
   "metadata": {},
   "outputs": [],
   "source": [
    "print(new_numbers)"
   ]
  },
  {
   "cell_type": "markdown",
   "metadata": {},
   "source": [
    "`map()` 함수는 입력값을 처리할 때 자주 활용합니다."
   ]
  },
  {
   "cell_type": "code",
   "execution_count": null,
   "metadata": {},
   "outputs": [],
   "source": [
    "numbers = ['1', '2', '3']\n",
    "\n",
    "# 위의 변수 numbers를 정수로 구성된 리스트 [1, 2, 3]으로 만드세요."
   ]
  },
  {
   "cell_type": "code",
   "execution_count": null,
   "metadata": {},
   "outputs": [],
   "source": [
    "# List comprehension 활용"
   ]
  },
  {
   "cell_type": "code",
   "execution_count": null,
   "metadata": {},
   "outputs": [],
   "source": []
  },
  {
   "cell_type": "code",
   "execution_count": null,
   "metadata": {},
   "outputs": [],
   "source": [
    "print(new_numbers)"
   ]
  },
  {
   "cell_type": "code",
   "execution_count": null,
   "metadata": {},
   "outputs": [],
   "source": [
    "# map() 활용"
   ]
  },
  {
   "cell_type": "code",
   "execution_count": null,
   "metadata": {},
   "outputs": [],
   "source": []
  },
  {
   "cell_type": "code",
   "execution_count": null,
   "metadata": {},
   "outputs": [],
   "source": [
    "print(new_numbers)"
   ]
  },
  {
   "cell_type": "markdown",
   "metadata": {},
   "source": [
    "첫번째 인자 function은 사용자 정의 함수도 가능합니다."
   ]
  },
  {
   "cell_type": "code",
   "execution_count": null,
   "metadata": {},
   "outputs": [],
   "source": [
    "# 세제곱의 결과를 나타내는 함수가 있습니다.\n",
    "def cube(n):\n",
    "    return n ** 3"
   ]
  },
  {
   "cell_type": "code",
   "execution_count": null,
   "metadata": {},
   "outputs": [],
   "source": [
    "# 세제곱 함수를 각각의 요소에 적용한 결과값을 구해봅시다.\n",
    "numbers = [1, 2, 3]"
   ]
  },
  {
   "cell_type": "code",
   "execution_count": null,
   "metadata": {},
   "outputs": [],
   "source": [
    "new_numbers = list(map(cube, numbers))"
   ]
  },
  {
   "cell_type": "code",
   "execution_count": null,
   "metadata": {},
   "outputs": [],
   "source": [
    "print(new_numbers)"
   ]
  },
  {
   "cell_type": "markdown",
   "metadata": {},
   "source": [
    "### [연습] 코딩 테스트의 기본\n",
    "\n",
    "> 두 정수를 입력 받아 더한 값을 출력하세요.\n",
    "\n",
    "**[입력 예시]**\n",
    "\n",
    "3 5\n",
    "\n",
    "---\n",
    "\n",
    "**[출력 예시]**\n",
    "\n",
    "8"
   ]
  },
  {
   "cell_type": "code",
   "execution_count": null,
   "metadata": {},
   "outputs": [],
   "source": [
    "# 아래에 코드를 작성하세요.\n"
   ]
  },
  {
   "cell_type": "markdown",
   "metadata": {},
   "source": [
    "## `filter(function, iterable)`\n",
    "\n",
    "* iterable에서 function의 반환된 결과가 `True` 인 것들만 구성하여 반환합니다.\n",
    "\n",
    "\n",
    "* `filter object` 를 반환합니다."
   ]
  },
  {
   "cell_type": "code",
   "execution_count": null,
   "metadata": {},
   "outputs": [],
   "source": [
    "# 특정 list에서 홀수만을 걸러내는 코드를 작성해봅시다."
   ]
  },
  {
   "cell_type": "code",
   "execution_count": null,
   "metadata": {},
   "outputs": [],
   "source": [
    "# 홀수를 판별하는 함수가 있습니다.\n",
    "def odd(n):\n",
    "    return n % 2"
   ]
  },
  {
   "cell_type": "code",
   "execution_count": null,
   "metadata": {},
   "outputs": [],
   "source": [
    "# 홀수인 요소만 뽑아 new_numbers에 저장합니다.\n",
    "numbers = [1, 2, 3]"
   ]
  },
  {
   "cell_type": "code",
   "execution_count": null,
   "metadata": {},
   "outputs": [],
   "source": [
    "new_numbers = list(filter(odd, numbers))"
   ]
  },
  {
   "cell_type": "code",
   "execution_count": null,
   "metadata": {},
   "outputs": [],
   "source": [
    "print(new_numbers)"
   ]
  },
  {
   "cell_type": "code",
   "execution_count": null,
   "metadata": {},
   "outputs": [],
   "source": [
    "# 다음의 list comprehension과 동일합니다."
   ]
  },
  {
   "cell_type": "code",
   "execution_count": null,
   "metadata": {},
   "outputs": [],
   "source": []
  },
  {
   "cell_type": "markdown",
   "metadata": {},
   "source": [
    "## `zip(*iterables)` \n",
    "\n",
    "* 복수의 iterable 객체를 모아(`zip()`)줍니다.\n",
    "\n",
    "\n",
    "* 결과는 튜플의 모음으로 구성된 `zip object` 를 반환합니다."
   ]
  },
  {
   "cell_type": "code",
   "execution_count": null,
   "metadata": {},
   "outputs": [],
   "source": [
    "girls = ['jane', 'ashley', 'mary']\n",
    "boys = ['justin', 'eric', 'david']"
   ]
  },
  {
   "cell_type": "code",
   "execution_count": null,
   "metadata": {},
   "outputs": [],
   "source": [
    "# zip() 활용하여 짝을 맞추어 본다."
   ]
  },
  {
   "cell_type": "code",
   "execution_count": null,
   "metadata": {},
   "outputs": [],
   "source": [
    "pair = list(zip(girls, boys))"
   ]
  },
  {
   "cell_type": "code",
   "execution_count": null,
   "metadata": {},
   "outputs": [],
   "source": [
    "print(pair)"
   ]
  },
  {
   "cell_type": "markdown",
   "metadata": {},
   "source": [
    "## lambda 함수\n",
    "\n",
    "* 표현식을 계산한 결과 값을 반환하는 함수로, 이름이 없는 함수여서 익명함수라고도 불립니다.\n",
    "\n",
    "* return 문을 가질 수 없고, 간단한 조건문 외의 구성이 어렵습니다.\n",
    "\n",
    "* 함수를 정의해서 사용하는 것보다 간결하게 사용 가능합니다.\n",
    "\n",
    "```python\n",
    "\n",
    "def triangle_area(b, h):\n",
    "    return 0.5 * b * h\n",
    "\n",
    "lambda b, h: 0.5 * b * h\n",
    "```"
   ]
  },
  {
   "cell_type": "code",
   "execution_count": null,
   "metadata": {},
   "outputs": [],
   "source": [
    "# 아래와 같이 간단한 함수를 정의해서 사용하는 것이 아니라 간결하게 사용 가능합니다.\n",
    "list(map(lambda n: n%2, [1, 2, 3]))"
   ]
  },
  {
   "cell_type": "markdown",
   "metadata": {},
   "source": [
    "<center>\n",
    "    <img src=\"https://user-images.githubusercontent.com/18046097/61181746-2a1d9400-a665-11e9-804e-e92940d4fc82.png\", alt=\"func.png\">\n",
    "</center>"
   ]
  },
  {
   "cell_type": "markdown",
   "metadata": {},
   "source": [
    "# 재귀 함수(recursive function)\n",
    "\n",
    "재귀 함수는 함수 내부에서 자기 자신을 호출 하는 함수를 뜻합니다.\n",
    "\n",
    "알고리즘을 설계 및 구현에서 유용하게 활용됩니다."
   ]
  },
  {
   "cell_type": "markdown",
   "metadata": {},
   "source": [
    "## 팩토리얼 계산\n",
    "> 팩토리얼은 1부터 n 까지 양의 정수를 차례대로 곱한 값이며 `!` 기호로 표기합니다. 예를 들어 3!은 3 * 2 * 1이며 결과는 6 입니다.\n",
    ">\n",
    "> `팩토리얼(factorial)`을 계산하는 함수 `fact(n)`를 작성하세요. \n",
    ">\n",
    "> n은 1보다 큰 정수라고 가정하고, 팩토리얼을 계산한 값을 반환합니다.\n",
    "\n",
    "$$\n",
    "\\displaystyle n! = \\prod_{ k = 1 }^{ n }{ k }\n",
    "$$\n",
    "\n",
    "$$\n",
    "\\displaystyle n! = 1*2*3*...*(n-1)*n\n",
    "$$\n",
    "\n",
    "---\n",
    "```\n",
    "예시 출력)\n",
    "120\n",
    "```"
   ]
  },
  {
   "cell_type": "markdown",
   "metadata": {},
   "source": [
    "### 재귀를 이용한 팩토리얼 계산\n",
    "\n",
    "```\n",
    "1! = 1\n",
    "2! = 1 * 2 = 1! * 2 \n",
    "3! = 1 * 2 * 3 = 2! * 3\n",
    "```"
   ]
  },
  {
   "cell_type": "markdown",
   "metadata": {},
   "source": [
    "재귀 함수를 이용하여 다음 셀에 팩토리얼 함수를 직접 구현해봅시다.\n",
    "\n",
    "(점화식에 대한 고민을 통해 코드 구현을 연습합니다.)\n",
    "\n",
    "Case(1) = `1! = 1`\n",
    "\n",
    "Case(2) = `2! = 1 * 2` = Case(1) * 2\n",
    "\n",
    "Case(3) = `3! = 1 * 2 * 3` = Case(2) * 3\n",
    "\n",
    "...\n",
    "\n",
    "Case(N) = N! = 1 * 2 * 3 * ... * N = Case(N-1) * N => N-1 단계까지의 결과 * N\n",
    "\n",
    "이렇게 반복적인 구조 (이전 단계까지의 결과 * 현재 단계의 숫자)를 찾아내고, 이를 코드로 표현합니다.\n",
    "\n",
    "```python\n",
    "def 팩토리얼재귀(현재 단계의 숫자):\n",
    "    만약, 현재 단계가 1 단계라면?\n",
    "        더이상 재귀호출을 진행하지않고, 1을 반환합니다.\n",
    "    그렇지 않은 경우에는 (현재 단계의 숫자 * 이전 단계의 재귀 함수의 실행 결과)를 반환합니다.\n",
    "```"
   ]
  },
  {
   "cell_type": "code",
   "execution_count": null,
   "metadata": {},
   "outputs": [],
   "source": [
    "#\n",
    "def factorial(n):\n",
    "    pass"
   ]
  },
  {
   "cell_type": "code",
   "execution_count": null,
   "metadata": {},
   "outputs": [],
   "source": [
    "# 해당 코드를 통해 올바른 결과가 나오는지 확인하세요.\n",
    "factorial(5)"
   ]
  },
  {
   "cell_type": "markdown",
   "metadata": {},
   "source": [
    "### 반복문을 이용한 팩토리얼 계산"
   ]
  },
  {
   "cell_type": "markdown",
   "metadata": {},
   "source": [
    "반복문으로 구현해봅시다.\n",
    "\n",
    "- 목표하는 n값 만큼 반복하여 곱을 누적합니다.\n",
    " \n",
    " \n",
    "```python\n",
    "def 팩토리얼반복(현재 단계의 숫자):\n",
    "    시작하는 숫자는 1\n",
    "    while문을 활용하여, n번만큼 결과에 곱을 누적합니다.\n",
    "    최종 결과를 리턴합니다.\n",
    "```"
   ]
  },
  {
   "cell_type": "code",
   "execution_count": null,
   "metadata": {},
   "outputs": [],
   "source": [
    "#\n",
    "def fact(n):\n",
    "    pass"
   ]
  },
  {
   "cell_type": "code",
   "execution_count": null,
   "metadata": {},
   "outputs": [],
   "source": [
    "# 해당 코드를 통해 올바른 결과가 나오는지 확인하세요.\n",
    "fact(5)"
   ]
  },
  {
   "cell_type": "markdown",
   "metadata": {},
   "source": [
    "## 반복문과 재귀함수\n",
    "```python\n",
    "factorial(3)\n",
    "3 * factorail(2)\n",
    "3 * 2 * factorial(1)\n",
    "3 * 2 * 1\n",
    "3 * 2\n",
    "6\n",
    "```\n",
    "\n",
    "* 두 코드 모두 원리는 같습니다.\n",
    "\n",
    "\n",
    "1. 반복문 코드\n",
    "    - n이 1보다 큰 경우 반복문을 돌며, n은 1씩 감소합니다. \n",
    "    - 마지막에 n이 1이면 더 이상 반복문을 돌지 않습니다.\n",
    "  \n",
    "  \n",
    "2. 재귀 함수 코드\n",
    "    - 재귀 함수를 호출하며, n은 1씩 감소합니다. \n",
    "    - 마지막에 n이 1이면 더 이상 추가 함수를 호출하지 않습니다.\n"
   ]
  },
  {
   "cell_type": "markdown",
   "metadata": {},
   "source": [
    "* 재귀함수는 기본적으로 같은 문제이지만 점점 범위가 줄어드는 문제를 풀게 됩니다.\n",
    "\n",
    "* 재귀함수를 작성시에는 반드시, `base case`가 존재 하여야 합니다. \n",
    "\n",
    "* `base case`는 점점 범위가 줄어들어 반복되지 않는 최종적으로 도달하는 곳을 의미합니다. \n",
    "\n",
    "* 재귀를 이용한 팩토리얼 계산에서의 base case는 **n이 1이 되면 함수를 호출하지 않고 정수를 반환하는 것**입니다."
   ]
  },
  {
   "cell_type": "markdown",
   "metadata": {},
   "source": [
    "* 자기 자신을 호출하는 재귀함수는 알고리즘 구현시 많이 사용됩니다.\n",
    "* 코드가 더 직관적이고 이해하기 쉬운 경우가 있습니다. \n",
    "* 팩토리얼 재귀함수를 [Python Tutor](https://goo.gl/k1hQYz)에서 확인해보면, 함수가 호출될 때마다 메모리 공간에 쌓이는 것을 볼 수 있습니다.\n",
    "* 이 경우, 메모리 스택이 넘치거나(Stack overflow) 프로그램 실행 속도가 늘어지는 단점이 생깁니다.\n",
    "* 파이썬에서는 이를 방지하기 위해 1,000번이 넘어가게 되면 더이상 함수를 호출하지 않고, 종료됩니다. (최대 재귀 깊이)"
   ]
  },
  {
   "cell_type": "markdown",
   "metadata": {},
   "source": [
    "### 최대 재귀 깊이\n",
    "\n",
    "\n",
    "```python\n",
    "def ssafy():\n",
    "    print('Hello, ssafy!')\n",
    "    ssafy()\n",
    " \n",
    "ssafy()\n",
    "```\n",
    "---\n",
    "\n",
    "`ssafy()`를 호출하면 아래와 같이 문자열이 계속 출력되다가 RecursionError가 발생합니다.\n",
    "\n",
    "파이썬에서는 최대 재귀 깊이(maximum recursion depth)가 1,000으로 정해져 있기 때문입니다.\n",
    "\n",
    "주피터 노트북은 커널이 종료되어 확인하기 어렵습니다.\n",
    "\n",
    "---\n",
    "\n",
    "```bash\n",
    "Hello, world!\n",
    "Hello, world!\n",
    "...\n",
    "Hello, world!\n",
    "---------------------------------------------------------------------------\n",
    "RecursionError                            Traceback (most recent call last)\n",
    "\n",
    "...\n",
    "\n",
    "      1 def hello():\n",
    "      2     print('Hello, world!')\n",
    "----> 3     hello()\n",
    "      4 \n",
    "      5 hello()\n",
    "\n",
    "RecursionError: maximum recursion depth exceeded while calling a Python object\n",
    "```"
   ]
  },
  {
   "cell_type": "markdown",
   "metadata": {},
   "source": [
    "## [실습] 피보나치 수열\n",
    "\n",
    "첫째 및 둘째 항이 1이며 그 뒤의 모든 항은 바로 앞 두 항의 합인 수열입니다. \n",
    "\n",
    "(0), 1, 1, 2, 3, 5, 8\n",
    "\n",
    "> 피보나치 수열은 다음과 같은 점화식이 있습니다. \n",
    ">\n",
    "> 피보나치 값을 리턴하는 두가지 방식의 코드를 모두 작성해주세요.\n",
    ">\n",
    "\n",
    "$$\n",
    "\\displaystyle F_0 = 0\n",
    "$$\n",
    "\n",
    "\n",
    "$$\n",
    "\\displaystyle F_1 = 1\n",
    "$$\n",
    "\n",
    "$$\n",
    "F_n=F_{n-1}+F_{n-2}\\qquad(n\\in\\{2,3,4,\\dots\\})\n",
    "$$\n",
    "\n",
    "1) `fib(n)` : 재귀함수\n",
    "\n",
    "2) `fib_loop(n)` : 반복문 활용한 함수\n",
    "\n",
    "---\n",
    "```\n",
    "예시 입력)\n",
    "fib(10)\n",
    "\n",
    "예시 호출)\n",
    "55\n",
    "```"
   ]
  },
  {
   "cell_type": "markdown",
   "metadata": {},
   "source": [
    "재귀 함수를 활용하여, fib 라는 이름의 피보나치 수열 함수를 작성하세요.\n",
    "\n",
    "(점화식에 대한 고민을 통해 코드 구현을 연습합니다.)\n",
    "\n",
    "Case(0) = 0\n",
    "\n",
    "Case(1) = 1\n",
    "\n",
    "Case(2) = Case(1) + Case(0) = 1\n",
    "\n",
    "Case(3) = Case(2) + Case(1)\n",
    "\n",
    "...\n",
    "\n",
    "Case(N) = Case(N-1) + Case(N-2)\n",
    "\n",
    "(현재 단계 = 바로 전 단계 + 바로 전전 단계)의 식을 코드로 표현합니다!\n",
    "\n",
    "```python\n",
    "def 피보나치재귀(현재단계):\n",
    "    만약, 현재단계가 2단계보다 작으면\n",
    "        그냥 현재 단계를 반환합니다.\n",
    "    그렇지 않다면,\n",
    "        전단계의 재귀함수 + 전전단계의 재귀함수 의 결과를 반환합니다.\n",
    "```"
   ]
  },
  {
   "cell_type": "code",
   "execution_count": null,
   "metadata": {},
   "outputs": [],
   "source": [
    "# \n",
    "def fib(n):\n",
    "    pass"
   ]
  },
  {
   "cell_type": "code",
   "execution_count": null,
   "metadata": {},
   "outputs": [],
   "source": [
    "fib(10)"
   ]
  },
  {
   "cell_type": "markdown",
   "metadata": {},
   "source": [
    "반복문(for문)을 활용하여, fib_loop라는 이름의 피보나치 수열 함수를 작성하세요.\n",
    "\n",
    "반복문으로 구현해봅시다.\n",
    "- 모든 Case의 결과를 리스트에 누적하는 방식으로 계산합니다.\n",
    "\n",
    "```python\n",
    "def 피보나치반복(현재단계):\n",
    "    만약, 입력된 단계가 2보다 작다면\n",
    "        입력된 단계를 그대로 리턴!\n",
    "\n",
    "    결과를 저장할 기본 리스트([0, 1])를 준비 (각각 Case(0)와 Case(1)의 결과)\n",
    "    반복문을 시작(2부터 시작, N까지)\n",
    "        마지막 2개의 요소들의 합을 리스트에 추가\n",
    "\n",
    "    리스트의 마지막 값을 반환\n",
    "``` "
   ]
  },
  {
   "cell_type": "code",
   "execution_count": null,
   "metadata": {},
   "outputs": [],
   "source": [
    "#\n",
    "def fib_loop(n):\n",
    "    pass"
   ]
  },
  {
   "cell_type": "code",
   "execution_count": null,
   "metadata": {},
   "outputs": [],
   "source": [
    "# 해당 코드를 통해 올바른 결과가 나오는지 확인하세요.\n",
    "fib_loop(10)"
   ]
  },
  {
   "cell_type": "markdown",
   "metadata": {},
   "source": [
    "이번에는 리스트를 사용 하지 않고 반복문(for문)을 활용하여 fib_loop2()을 작성하세요.\n",
    "\n",
    "- 반드시 리스트로 모든 값을 저장할 필요가 있을까요?\n",
    "- 실제로 매 반복문 마다 필요한 값은 (마지막 2개의 요소)였습니다.\n",
    "- 그렇기 때문에 변수 2개에 값을 변경 & 덮어쓰기 하면서 로직을 구성할 수 있습니다!\n",
    "\n",
    "```python\n",
    "def 피보나치반복(현재단계):\n",
    "    만약, 입력된 단계가 2보다 작다면\n",
    "        입력된 단계를 그대로 리턴!\n",
    "\n",
    "    결과를 저장할 변수를 2개 준비 (각각 Case(0)단계와 Case(1)단계의 결과를 의미)\n",
    "    반복문을 시작(0부터 N-2까지)\n",
    "        전 단계의 값과 전전 단계의 값의 합을 전 단계에 덮어쓰기하면서, 동시에 원래가지고 있던 전 단계 값을 전전 단계에 저장\n",
    "\n",
    "    마지막 결과 값을 반환!\n",
    "```"
   ]
  },
  {
   "cell_type": "code",
   "execution_count": null,
   "metadata": {},
   "outputs": [],
   "source": [
    "#\n",
    "def fib_loop_2(n):\n",
    "    pass"
   ]
  },
  {
   "cell_type": "code",
   "execution_count": null,
   "metadata": {},
   "outputs": [],
   "source": [
    "#\n",
    "fib_loop_2(10)"
   ]
  },
  {
   "cell_type": "code",
   "execution_count": null,
   "metadata": {},
   "outputs": [],
   "source": [
    "# 반복문(while 문)을 이용한 코드 fib_while()을 작성하세요.\n",
    "# 알고리즘을 구현하는 코드는 여러가지 방식이 있을 수 있습니다."
   ]
  },
  {
   "cell_type": "code",
   "execution_count": null,
   "metadata": {},
   "outputs": [],
   "source": []
  },
  {
   "cell_type": "markdown",
   "metadata": {},
   "source": [
    "## 반복문과 재귀 함수의 차이\n",
    "\n",
    "* 알고리즘 자체가 재귀적인 표현이 자연스러운 경우 재귀함수를 사용합니다.\n",
    "* 재귀 호출은 `변수 사용` 을 줄여줄 수 있습니다."
   ]
  },
  {
   "cell_type": "code",
   "execution_count": null,
   "metadata": {},
   "outputs": [],
   "source": [
    "# 재귀 호출은 입력 값이 커질 수록 연산 속도가 오래걸립니다.\n",
    "# fib() 함수에 10 이상의 값을 넣어보고 실행한 뒤 연산 시간을 확인해봅시다."
   ]
  },
  {
   "cell_type": "code",
   "execution_count": null,
   "metadata": {},
   "outputs": [],
   "source": [
    "import time\n",
    "\n",
    "t0 = time.time()\n",
    "fib(10)\n",
    "t1 = time.time()\n",
    "\n",
    "total = t1 - t0\n",
    "print(total)"
   ]
  },
  {
   "cell_type": "code",
   "execution_count": null,
   "metadata": {},
   "outputs": [],
   "source": [
    "# 반복문은 재귀로 구현된 함수보다 연산 속도가 빠른 편입니다.\n",
    "# fib_loop() 함수에 10 이상의 값을 넣어보고 실행한 뒤 연산 시간을 확인해봅시다.\n",
    "# 그리고 100배 더 큰 1000 이상의 값도 넣어보고 실행한 뒤 연산 시간을 확인해봅시다."
   ]
  },
  {
   "cell_type": "code",
   "execution_count": null,
   "metadata": {},
   "outputs": [],
   "source": [
    "import time\n",
    "\n",
    "t0 = time.time()\n",
    "fib_loop(1000)\n",
    "t1 = time.time()\n",
    "\n",
    "total = t1 - t0\n",
    "print(total)"
   ]
  },
  {
   "cell_type": "markdown",
   "metadata": {},
   "source": [
    "# 패킹 / 언패킹 (Packing / Unpacking)"
   ]
  },
  {
   "cell_type": "markdown",
   "metadata": {},
   "source": [
    "모든 시퀀스형(리스트, 튜플 등)은 패킹/언패킹 연산자 `*`를 사용하여 객체의 패킹 또는 언패킹이 가능합니다."
   ]
  },
  {
   "cell_type": "markdown",
   "metadata": {},
   "source": [
    "## 패킹 (packing)\n",
    "\n",
    "`x, *y = i, j, k`\n",
    "\n",
    "* 대입문의 좌변 변수에 위치합니다.\n",
    "* 우변의 객체 수가 좌변의 변수보다 많을 경우 객체를 순서대로 대입합니다.\n",
    "* 나머지 항목들은 모두 별 기호(*) 표시된 변수에 리스트로 대입합니다."
   ]
  },
  {
   "cell_type": "code",
   "execution_count": null,
   "metadata": {},
   "outputs": [],
   "source": [
    "x, *y = 1, 2, 3, 4"
   ]
  },
  {
   "cell_type": "code",
   "execution_count": null,
   "metadata": {},
   "outputs": [],
   "source": [
    "print(x)\n",
    "print(type(x))"
   ]
  },
  {
   "cell_type": "code",
   "execution_count": null,
   "metadata": {},
   "outputs": [],
   "source": [
    "print(y)\n",
    "print(type(y))"
   ]
  },
  {
   "cell_type": "code",
   "execution_count": null,
   "metadata": {},
   "outputs": [],
   "source": [
    "# 하나로 묶는 패킹\n",
    "\n",
    "numbers = 1, 2, 3\n",
    "print(numbers, type(numbers))"
   ]
  },
  {
   "cell_type": "markdown",
   "metadata": {},
   "source": [
    "## 언패킹 (Unpacking)\n",
    "\n",
    "* argument 이름이 `*`로 시작하는 경우 argument unpacking 이라고 부릅니다.\n",
    "* 시퀀스로 묶인 것을 풀어 각각의 변수에 대입합니다.\n"
   ]
  },
  {
   "cell_type": "code",
   "execution_count": null,
   "metadata": {},
   "outputs": [],
   "source": [
    "numbers = 1, 2, 3  # 패킹\n",
    "\n",
    "a, b, c = numbers  # 언패킹"
   ]
  },
  {
   "cell_type": "code",
   "execution_count": null,
   "metadata": {
    "scrolled": true
   },
   "outputs": [],
   "source": [
    "print(a)\n",
    "print(b)\n",
    "print(c)"
   ]
  },
  {
   "cell_type": "code",
   "execution_count": null,
   "metadata": {
    "scrolled": true
   },
   "outputs": [],
   "source": [
    "# 변수 개수가 값 보다 많은 경우\n",
    "numbers = 1, 2\n",
    "a, b, c = numbers  # 언패킹 X 에러 발생"
   ]
  },
  {
   "cell_type": "code",
   "execution_count": null,
   "metadata": {},
   "outputs": [],
   "source": [
    "def multiply(x, y, z):\n",
    "    return x * y * z"
   ]
  },
  {
   "cell_type": "code",
   "execution_count": null,
   "metadata": {},
   "outputs": [],
   "source": [
    "numbers = [1, 2, 3]\n",
    "print(multiply(*numbers))  # 언패킹 (argument unpacking)"
   ]
  },
  {
   "cell_type": "code",
   "execution_count": null,
   "metadata": {},
   "outputs": [],
   "source": [
    "def save_person(name, age):\n",
    "    print(f'당신은 {name}입니다. {age}살 입니다.')\n",
    "    \n",
    "person_a = '이싸피', 25  # 패킹\n",
    "\n",
    "save_person(*person_a)   # 언패킹 (argument unpacking)"
   ]
  },
  {
   "cell_type": "markdown",
   "metadata": {},
   "source": [
    "## 정해지지 않은 여러 개의 인자 처리\n"
   ]
  },
  {
   "cell_type": "markdown",
   "metadata": {},
   "source": [
    "우리가 주로 활용하는 `print()` 함수는 [파이썬 표준 라이브러리의 내장함수](https://docs.python.org/ko/3.6/library/functions.html) 중 하나이며, 다음과 같이 구성되어있습니다.\n",
    "> <center>\n",
    "    <img src=\"https://user-images.githubusercontent.com/18046097/61181751-2b4ec100-a665-11e9-9a7c-a19a8c445cfa.png\", alt=\"print\">\n",
    "</center>"
   ]
  },
  {
   "cell_type": "code",
   "execution_count": null,
   "metadata": {},
   "outputs": [],
   "source": [
    "# 지금까지 열심히 사용했던 print에는 여러 값을 넣을 수 있습니다."
   ]
  },
  {
   "cell_type": "code",
   "execution_count": null,
   "metadata": {},
   "outputs": [],
   "source": [
    "print('첫번째 문장')\n",
    "print('두번째 문장', end='_')\n",
    "print('세번째 문장', '네번째 문장')\n",
    "print('다섯번째 문장', '마지막 문장', sep='/', end='끝!')"
   ]
  },
  {
   "cell_type": "markdown",
   "metadata": {},
   "source": [
    "### 가변(임의) 인자 리스트(Arbitrary Argument Lists)\n",
    "\n",
    "앞서 설명한 `print()`처럼 개수가 정해지지 않은 임의의 인자를 받기 위해서는 **함수를 정의할 때** 가변 인자 리스트`*args`를 활용합니다. \n",
    "\n",
    "가변 인자 리스트는 `tuple` 형태로 처리가 되며, 매개변수에 `*`로 표현합니다. \n",
    "\n",
    "---\n",
    "\n",
    "**활용법**\n",
    "\n",
    "```python\n",
    "def func(a, b, *args):\n",
    "```\n",
    "> `*args` : 임의의 개수의 위치인자를 받음을 의미\n",
    "> \n",
    "> 보통, 이 가변 인자 리스트는 매개변수 목록의 마지막에 옵니다."
   ]
  },
  {
   "cell_type": "code",
   "execution_count": null,
   "metadata": {},
   "outputs": [],
   "source": [
    "# 앞서 살펴봤던 print문에 대한 공식문서를 다시 한번 살펴봅니다.\n",
    "# 바로, *obejcts를 통해 임의의 숫자의 인자를 모두 처리(가변 인자 리스트)하고 있다는 것을 알 수 있습니다."
   ]
  },
  {
   "cell_type": "code",
   "execution_count": null,
   "metadata": {},
   "outputs": [],
   "source": [
    "print('hi', '안녕', 'Guten Tag', 'gonnichiwa', sep=',')"
   ]
  },
  {
   "cell_type": "code",
   "execution_count": null,
   "metadata": {},
   "outputs": [],
   "source": [
    "# 또한, args는 함수 내부에서 tuple 자료형으로 사용됩니다."
   ]
  },
  {
   "cell_type": "code",
   "execution_count": null,
   "metadata": {
    "ExecuteTime": {
     "end_time": "2021-01-15T07:38:26.599448Z",
     "start_time": "2021-01-15T07:38:26.588437Z"
    }
   },
   "outputs": [],
   "source": [
    "def my_func(*args):\n",
    "    return args\n",
    "    \n",
    "print(my_func(1, 2))\n",
    "print(type(my_func(1, 2)))"
   ]
  },
  {
   "cell_type": "markdown",
   "metadata": {},
   "source": [
    "### [연습] 가변 인자 리스트를 사용해봅시다.\n",
    "\n",
    "> 정수를 여러 개 받아서 가장 큰 값을 반환(return)하는 함수 `my_max()`를 작성하세요.\n",
    ">\n",
    "> max 내장 함수 사용은 금지합니다.\n",
    "\n",
    "```python\n",
    "my_max(10, 20, 30, 50)\n",
    "```\n",
    "---\n",
    "```\n",
    "예시출력)\n",
    "50\n",
    "```"
   ]
  },
  {
   "cell_type": "code",
   "execution_count": null,
   "metadata": {},
   "outputs": [],
   "source": [
    "# 정해지지 않은 여러 개의 인자를 내장 함수 max에서는 어떻게 처리하는지 확인해봅시다."
   ]
  },
  {
   "cell_type": "code",
   "execution_count": null,
   "metadata": {},
   "outputs": [],
   "source": [
    "max(1, 2, 3, 4)"
   ]
  },
  {
   "cell_type": "markdown",
   "metadata": {},
   "source": [
    "이제 my_max 이름의 함수를 직접 선언해봅시다.\n",
    "\n",
    "용어 이름은 가변 인자 리스트이지만, 기본적으로 튜플 자료형임에 주의합니다.\n",
    "- `*` (별표 1개)를 매개변수에 작성해야합니다.\n",
    "- 말 그대로 정해지지 않았기 때문에, 이번 예제에서는 반복문을 통해 간편하게 개별 값에 접근합니다.\n",
    "\n",
    "```python\n",
    "def 함수이름(가변 인자 리스트):\n",
    "    가변 인자 리스트 중 처음 값을 기준이 되는 값으로 할당합니다.\n",
    "    반복문을 통해 입력 받은 값들을 검사합니다.\n",
    "    조건문으로 기준이 되는 값과 다른 요소들을 비교해서, 더 큰 값을 기준값으로 변경합니다.\n",
    "    찾아낸 최대값을 반환합니다.\n",
    "```     "
   ]
  },
  {
   "cell_type": "code",
   "execution_count": null,
   "metadata": {},
   "outputs": [],
   "source": []
  },
  {
   "cell_type": "code",
   "execution_count": null,
   "metadata": {},
   "outputs": [],
   "source": [
    "# 다음 코드를 실행해 올바른 결과가 나오는지 확인하세요.\n",
    "my_max(-1, -2, -3, -4)"
   ]
  },
  {
   "cell_type": "markdown",
   "metadata": {},
   "source": [
    "### 가변(임의) 키워드 인자(Arbitrary Keyword Arguments)\n",
    "\n",
    "정해지지 않은 키워드 인자들은 **함수를 정의할 때** 가변 키워드 인자 `**kwargs`를 활용합니다. \n",
    "\n",
    "가변 키워드 인자는 **`dict`** 형태로 처리가 되며, 매개변수에 `**`로 표현합니다. \n",
    "\n",
    "---\n",
    "\n",
    "**활용법**\n",
    "\n",
    "```python\n",
    "def func(**kwargs):\n",
    "```\n",
    "> `**kwargs` : 임의의 개수의 키워드 인자를 받음을 의미합니다"
   ]
  },
  {
   "cell_type": "markdown",
   "metadata": {},
   "source": [
    "우리가 dictionary를 만들 때 사용할 수 있는 `dict()` 함수는 [파이썬 표준 라이브러리의 내장함수](https://docs.python.org/ko/3.6/library/functions.html) 중 하나이며, 다음과 같이 구성되어 있습니다.\n",
    "> <center>\n",
    "    <img src=\"https://user-images.githubusercontent.com/18046097/61181740-2984fd80-a665-11e9-94cf-7f5ab41873b1.png\", alt=\"dictionary\">\n",
    "</center>"
   ]
  },
  {
   "cell_type": "code",
   "execution_count": null,
   "metadata": {},
   "outputs": [],
   "source": [
    "# 딕셔너리 생성 함수 예시입니다.\n",
    "# 가변 키워드 인자 활용을 확인해보기 위한 예시입니다."
   ]
  },
  {
   "cell_type": "code",
   "execution_count": null,
   "metadata": {},
   "outputs": [],
   "source": [
    "hi = dict(한국어='안녕', 영어='hi')\n",
    "print(hi)"
   ]
  },
  {
   "cell_type": "code",
   "execution_count": null,
   "metadata": {},
   "outputs": [],
   "source": [
    "# 식별자는 숫자만으로는 이루어질 수가 없다는 것에 주의합니다.\n",
    "# 키워드인자로 넘기면 함수 안에서 식별자(변수이름)로 쓰이기 때문입니다."
   ]
  },
  {
   "cell_type": "code",
   "execution_count": null,
   "metadata": {},
   "outputs": [],
   "source": [
    "dict(1=1, 2=2)  # SyntaxError"
   ]
  },
  {
   "cell_type": "code",
   "execution_count": null,
   "metadata": {},
   "outputs": [],
   "source": [
    "# Key가 숫자인 딕셔너리를 만들고 싶다면, 아래와 같이 사용해야합니다.\n",
    "print(dict([(1, 1), (2, 2)]))\n",
    "print(dict(((1,1), (2,2))))"
   ]
  },
  {
   "cell_type": "code",
   "execution_count": null,
   "metadata": {},
   "outputs": [],
   "source": [
    "# 아래 셀의 코드를 실행시켜 kwargs가 딕셔너리로 처리되는 것을 확인해봅시다."
   ]
  },
  {
   "cell_type": "code",
   "execution_count": null,
   "metadata": {},
   "outputs": [],
   "source": [
    "def my_dict(**kwargs):\n",
    "    return kwargs\n",
    "\n",
    "print(my_dict(한국어='안녕', 영어='hi', 독일어='Guten Tag'))"
   ]
  },
  {
   "cell_type": "markdown",
   "metadata": {},
   "source": [
    "### [실습] URL 생성기\n",
    "\n",
    "> `my_url()` 함수를 만들어 완성된 URL을 반환하는 함수를 작성하세요.\n",
    ">\n",
    ">\n",
    "\n",
    "```python\n",
    "my_url(sidoname='서울', key='asdf')\n",
    "```\n",
    "\n",
    "---\n",
    "\n",
    "```\n",
    "예시 출력)\n",
    "https://api.go.kr?sidoname=서울&key=asdf&\n",
    "```"
   ]
  },
  {
   "cell_type": "markdown",
   "metadata": {},
   "source": [
    "입력받은 가변 키워드 인자를 활용하여 'https://api.go.kr?'를 BASE_URL로 사용하는 URL을 생성해봅시다.\n",
    "\n",
    "my_url 이라는 이름의 함수를 직접 작성해봅시다.\n",
    "\n",
    "가변 키워드 인자(kwargs)를 사용하는 실습입니다.\n",
    "- `**` (별표 2개)를 변수명 앞에 붙여서 작성하는 문법 사항에 주의합니다.\n",
    "- 또한, 가변 키워드 인자는 기본적으로 딕셔너리 자료형이라는 점에 주의합니다.\n",
    "- 이번에도 정해지지 않은 수의 인자가 입력되기 때문에 반복문을 활용합니다.\n",
    "\n",
    "```python\n",
    "def 함수이름(가변 키워드 인자):\n",
    "    기본이 되는 url인 'https://api.go.kr?'를 미리 url 변수에 할당합니다.\n",
    "    딕셔너리를 반복문으로 조회하기 위해 .items() 메서드를 활용합니다.\n",
    "    해당 메서드로 얻어 낼수 있는 key값과, value값을 활용하여 url을 완성합니다.\n",
    "    완성된 url을 반환합니다.\n",
    "```"
   ]
  },
  {
   "cell_type": "code",
   "execution_count": null,
   "metadata": {},
   "outputs": [],
   "source": [
    "#\n",
    "def my_url():\n",
    "    pass"
   ]
  },
  {
   "cell_type": "code",
   "execution_count": null,
   "metadata": {
    "ExecuteTime": {
     "end_time": "2021-01-15T07:33:07.945581Z",
     "start_time": "2021-01-15T07:33:07.931569Z"
    }
   },
   "outputs": [],
   "source": [
    "# 다음 코드를 실행하여 결과를 확인해봅시다.\n",
    "print(my_url(sidoname='서울', key='asdf'))"
   ]
  },
  {
   "cell_type": "markdown",
   "metadata": {},
   "source": [
    "# 모듈(Module)\n",
    "\n",
    "- 모듈(module)은 특정 기능을 하는 코드를 담고 있는 파일(또는 스크립트)\n",
    "- 파이썬의 경우, 특정 기능을 파이썬 파일(.py) 단위로 작성한 것을 말합니다.\n"
   ]
  },
  {
   "cell_type": "markdown",
   "metadata": {},
   "source": [
    "## 모듈 생성\n",
    "- jupyter notebook 파일 트리 화면에서 New > Text File을 선택해 새로운 파일을 만들어 주세요.\n",
    "- 파일의 이름을 `check.py`로 저장해 주세요.\n",
    "\n",
    "**주의) Python 3(ipykernel) 을 새로 만드는게 아닌 Text File을 만들고 이름 변경을 통해 진행해주세요**"
   ]
  },
  {
   "cell_type": "code",
   "execution_count": null,
   "metadata": {},
   "outputs": [],
   "source": [
    "# check.py 파일에 짝수, 홀수를 판별하는 함수를 작성해봅시다.\n",
    "# 1. n을 매개변수로 받아 홀수인지를 판단하는 odd 함수를 작성해 주세요.\n",
    "# 2. return은 n이 홀수라면 True를, 아니라면 False를 return 합니다.\n",
    "\n"
   ]
  },
  {
   "cell_type": "code",
   "execution_count": null,
   "metadata": {},
   "outputs": [],
   "source": [
    "# 3. n을 매개변수로 받아 짝수인지를 판단하는 even 함수를 작성해 주세요.\n",
    "# 4. return은 n이 짝수라면 True를, 아니라면 False를 return 합니다.\n",
    "\n"
   ]
  },
  {
   "cell_type": "markdown",
   "metadata": {},
   "source": [
    "## 모듈 활용\n",
    "\n",
    "### `import`\n",
    "- 모듈을 활용하기 위해서는 반드시 `import`문을 통해 내장 모듈을 이름공간(namespace)으로 가져와야 합니다.\n",
    "- `import`문이 사용된 코드의 위치에 따라 namespace가 결정됩니다.\n",
    "- 코드 최상단에 `import`문을 작성할 경우, Global namespace에 import됩니다.(함수 챕터에서 학습한 전역스코프와 지역스코프 참조)"
   ]
  },
  {
   "cell_type": "code",
   "execution_count": null,
   "metadata": {},
   "outputs": [],
   "source": [
    "# import를 이용하여 작성한 check.py를 가져옵니다.\n",
    "\n"
   ]
  },
  {
   "cell_type": "code",
   "execution_count": null,
   "metadata": {},
   "outputs": [],
   "source": [
    "# 우리가 만든 check 모듈의 odd, even 함수를 dir 함수를 통해 확인해봅시다.\n",
    "# dir 내장 함수는 하나의 객체를 매개변수로 넣어주면, \n",
    "# 해당 객체가 어떤 변수와 메서드(method)를 가지고 있는지 나열해 줍니다.\n",
    "\n"
   ]
  },
  {
   "cell_type": "code",
   "execution_count": null,
   "metadata": {},
   "outputs": [],
   "source": [
    "# odd와 even 함수를 사용해봅시다.\n",
    "\n"
   ]
  },
  {
   "cell_type": "markdown",
   "metadata": {},
   "source": [
    "# 패키지(Package)\n",
    "\n",
    "- 패키지(package)는 하나의 디렉토리에 모듈(module)이 옹기종기 모여있는 형태를 말합니다. \n",
    "- 우리는 이 패키지를 점(`.`)으로 구분해서 패키지.모듈 이름(`package.module`)형태로 모듈을 구조화 할 수 있습니다."
   ]
  },
  {
   "cell_type": "markdown",
   "metadata": {},
   "source": [
    "## 패키지 생성\n",
    "\n",
    "- jupyter notebook 파일 트리 화면에서 New > Folder를 선택합니다.\n",
    "- 그리고 다음과 같은 폴더 구조를 생성해 주세요.\n",
    "\n",
    "```python\n",
    "my_package/\n",
    "    __init__.py\n",
    "    math/\n",
    "        __init__.py\n",
    "        tools.py  \n",
    "```\n",
    "> 모듈 이름 `my_package.math`는 `my_package`라는 이름의 패키지에 있는 `math`라는 이름의 하위 패키지를 가리킵니다.\n",
    "\n",
    "- **`__init__.py`**가 뭐지?\n",
    "> `__init__.py`는 '이 파일이 있는 디렉터리를 하나의 파이썬 패키지로 인식해!'라고 파이썬에게 알려주는 역할을 하는 파일입니다. 사실 python 3.3 버전 이후부터는 이 파일이 없어도 패키지로 인식하지만, 우리가 작성하는 프로그램이 항상 python 3.3 버전 이상에서 실행된다는 보장을 할 수 없으므로 하위 버전 호환을 위해 `__init__.py`를 생성하는 것이 권장됩니다."
   ]
  },
  {
   "cell_type": "markdown",
   "metadata": {},
   "source": [
    "`math` 패키지 만들기\n",
    "- 아래의 파일 구조로 `math` 패키지를 만들어 주세요.\n",
    "- 모든 `__init__.py` 파일은 빈 파일로 만듭니다.\n",
    "```py\n",
    "my_package/\n",
    "    __init__.py\n",
    "    math/\n",
    "        __init__.py\n",
    "        tools.py \n",
    "```"
   ]
  },
  {
   "cell_type": "code",
   "execution_count": null,
   "metadata": {},
   "outputs": [],
   "source": [
    "# 다음 코드를 math/tools.py에 작성해 주세요.\n",
    "\n",
    "pi = 3.14159265358979323846\n",
    "e = 2.71828182845904523536\n",
    "\n",
    "def my_max(a, b):\n",
    "    if a > b:\n",
    "        return a\n",
    "    else:\n",
    "        return b"
   ]
  },
  {
   "cell_type": "markdown",
   "metadata": {},
   "source": [
    "`statistics` 패키지 만들기\n",
    "- 아래의 파일 구조로 `statistics` 패키지를 만들어 주세요.\n",
    "```py\n",
    "my_package/\n",
    "    __init__.py\n",
    "    math/\n",
    "        __init__.py\n",
    "        tools.py  \n",
    "    statistics/\n",
    "        __init__.py\n",
    "        tools.py\n",
    "```"
   ]
  },
  {
   "cell_type": "code",
   "execution_count": null,
   "metadata": {},
   "outputs": [],
   "source": [
    "# 다음 코드를 statistics/tools.py에 작성해 주세요.\n",
    "\n",
    "import math\n",
    "\n",
    "def standard_deviation(values):\n",
    "    mean = sum(values) / len(values)\n",
    "    sum_var = sum(pow(value - mean, 2) for value in values) / len(values)\n",
    "    std_dev = math.sqrt(sum_var)\n",
    "    return std_dev"
   ]
  },
  {
   "cell_type": "markdown",
   "metadata": {},
   "source": [
    "## 패키지 활용\n",
    "- 모듈과 동일하게 `from`과 `import` 키워드를 활용해 가져와서 사용합니다."
   ]
  },
  {
   "cell_type": "markdown",
   "metadata": {},
   "source": [
    "### `from` *패키지* `import` *모듈*\n",
    "\n",
    "`import`는 `from`과 함께 활용할 수 있습니다."
   ]
  },
  {
   "cell_type": "code",
   "execution_count": null,
   "metadata": {},
   "outputs": [],
   "source": [
    "# math 패키지의 tools 모듈을 namespace에 추가해봅시다.\n",
    "\n"
   ]
  },
  {
   "cell_type": "markdown",
   "metadata": {},
   "source": [
    "### `from` *패키지.모듈* `import` *데이터*\n",
    "\n",
    "특정한 함수 혹은 어트리뷰트만 활용하고 싶을 때는 아래와 같이 작성합니다."
   ]
  },
  {
   "cell_type": "code",
   "execution_count": null,
   "metadata": {},
   "outputs": [],
   "source": [
    "# math 패키지의 tools 모듈 내부에 있는 자연 상수 e를 print를 이용해 출력해보세요.\n",
    "\n"
   ]
  },
  {
   "cell_type": "markdown",
   "metadata": {},
   "source": [
    "### `from` *모듈* `import` `*`\n",
    "\n",
    "`*`는 해당하는 모듈 내의 모든 변수, 함수, 클래스를 가져옵니다."
   ]
  },
  {
   "cell_type": "code",
   "execution_count": null,
   "metadata": {},
   "outputs": [],
   "source": [
    "# math 패키지 내부의 tools 모듈에 있는 모든 변수와 함수를 가져와봅시다.\n",
    "# pi 변수와 my_max 함수를 사용해 보세요.\n",
    "\n"
   ]
  },
  {
   "cell_type": "markdown",
   "metadata": {},
   "source": [
    "### `from` *모듈* `import` *데이터*  `as` *별명*\n",
    "\n",
    "모든 데이터에는 `as`를 이용해서 새로운 이름(alias)을 붙일 수 있습니다."
   ]
  },
  {
   "cell_type": "code",
   "execution_count": null,
   "metadata": {},
   "outputs": [],
   "source": [
    "# statistics 패키지 tools 모듈에 있는 standard_deviation 함수를 \n",
    "# 'sd'라는 짧은 이름으로 줄여서 가져와봅시다.\n",
    "# standard_deviation 함수를 사용해서 [1, 2, 3, 4, 5]의 표준 편차를 구해봅시다.\n",
    "\n"
   ]
  },
  {
   "cell_type": "markdown",
   "metadata": {},
   "source": [
    "# 정리"
   ]
  },
  {
   "cell_type": "markdown",
   "metadata": {},
   "source": [
    "## 용어 정리\n",
    "- 모듈 vs 패키지\n",
    "- 라이브러리 (library)?\n",
    "> 라이브러리는 패키지가 옹기종기 모여있는 형태입니다! <br>다만 종종 패키지와 라이브러리를 같은 의미로 쓰기도 합니다."
   ]
  },
  {
   "cell_type": "markdown",
   "metadata": {},
   "source": [
    "|용어|정의|\n",
    "|--------|-------------------|\n",
    "|  모듈   | 특정 기능을 `.py` **파일 단위**로 작성한 것. |\n",
    "|  패키지  | 특정 기능과 관련된 여러 **모듈들의 집합**. 패키지 안에는 또다른 서브 패키지를 포함 할수도 있음.  |\n",
    "| 파이썬 표준 라이브러리 | 파이썬에 **기본적으로 설치된 모듈과 내장 함수**를 묶어서 파이썬 표준 라이브러리 (Python Standard Library, PSL) 라 불림. |\n",
    "| 패키지 관리자(**`pip`**) | `PyPI` 에 저장된 외부 패키지들을 설치하도록 도와주는 패키지. |"
   ]
  },
  {
   "cell_type": "markdown",
   "metadata": {},
   "source": [
    "## 모듈과 패키지 사용하기\n",
    "### 모듈\n",
    "```py\n",
    "import module\n",
    "from module import var, function, Class\n",
    "from module import *\n",
    "```\n",
    "\n",
    "### 패키지\n",
    "```py\n",
    "from package import module\n",
    "from package.module import var, function, Class\n",
    "\n",
    "```"
   ]
  },
  {
   "cell_type": "code",
   "execution_count": null,
   "metadata": {},
   "outputs": [],
   "source": []
  }
 ],
 "metadata": {
  "kernelspec": {
   "display_name": "Python 3 (ipykernel)",
   "language": "python",
   "name": "python3"
  },
  "language_info": {
   "codemirror_mode": {
    "name": "ipython",
    "version": 3
   },
   "file_extension": ".py",
   "mimetype": "text/x-python",
   "name": "python",
   "nbconvert_exporter": "python",
   "pygments_lexer": "ipython3",
   "version": "3.9.9"
  },
  "toc": {
   "base_numbering": 1,
   "nav_menu": {},
   "number_sections": true,
   "sideBar": true,
   "skip_h1_title": false,
   "title_cell": "Table of Contents",
   "title_sidebar": "Contents",
   "toc_cell": false,
   "toc_position": {
    "height": "calc(100% - 180px)",
    "left": "10px",
    "top": "150px",
    "width": "307.2px"
   },
   "toc_section_display": true,
   "toc_window_display": true
  },
  "toc-autonumbering": false,
  "toc-showcode": false,
  "toc-showmarkdowntxt": false,
  "toc-showtags": false,
  "vscode": {
   "interpreter": {
    "hash": "92b11214db13eb84a371023438dea2a06ed1f8ba2a8faa9a9eaa88215bb67462"
   }
  }
 },
 "nbformat": 4,
 "nbformat_minor": 4
}
